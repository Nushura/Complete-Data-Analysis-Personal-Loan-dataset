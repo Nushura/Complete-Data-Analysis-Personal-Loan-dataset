{
 "cells": [
  {
   "cell_type": "markdown",
   "id": "acd66ec9",
   "metadata": {},
   "source": [
    "# Information System Solutions and Design (2250)\n",
    "\n",
    "# Assignment 3: Data Science Project\n",
    "\n",
    "## Nushura Islam (s3796107)"
   ]
  },
  {
   "cell_type": "markdown",
   "id": "c99c0007",
   "metadata": {},
   "source": [
    "## Phase 4: Tune the hyper parameters of your selected model"
   ]
  },
  {
   "cell_type": "markdown",
   "id": "0f0f5db4",
   "metadata": {},
   "source": [
    "# Importing libraries"
   ]
  },
  {
   "cell_type": "code",
   "execution_count": 1,
   "id": "23433ed1",
   "metadata": {},
   "outputs": [],
   "source": [
    "# Library for pickling\n",
    "import joblib\n",
    "\n",
    "# Miscellabeous libraries\n",
    "import numpy as np\n",
    "import pandas as pd\n",
    "#import collections\n",
    "#import time\n",
    "\n",
    "# Model libraries\n",
    "from sklearn.linear_model import LogisticRegression\n",
    "from sklearn.neighbors import KNeighborsClassifier\n",
    "from sklearn.svm import SVC\n",
    "from sklearn.ensemble import RandomForestClassifier\n",
    "from sklearn.naive_bayes import GaussianNB\n",
    "\n",
    "# Library for performing grid search\n",
    "from sklearn.model_selection import GridSearchCV\n",
    "\n",
    "# Metrics library\n",
    "#from sklearn.metrics import accuracy_score\n",
    "#from sklearn.metrics import confusion_matrix\n",
    "#from sklearn.metrics import recall_score\n",
    "#from sklearn.metrics import precision_score\n",
    "from sklearn.metrics import f1_score\n",
    "#from sklearn.metrics import classification_report\n",
    "#from sklearn.metrics import roc_curve\n",
    "#from sklearn.metrics import auc"
   ]
  },
  {
   "cell_type": "markdown",
   "id": "2d19e6a7",
   "metadata": {},
   "source": [
    "# Load the pickled data from knn classification"
   ]
  },
  {
   "cell_type": "code",
   "execution_count": 2,
   "id": "b92b5320",
   "metadata": {},
   "outputs": [
    {
     "name": "stdout",
     "output_type": "stream",
     "text": [
      "train data: (4290, 16) (4290,)\n",
      "test data: (1073, 16) (1073,)\n"
     ]
    }
   ],
   "source": [
    "# Load the pickled files from knn classification\n",
    "X_train = joblib.load('X_train_knn.pkl')  \n",
    "y_train = joblib.load('y_train_knn.pkl')\n",
    "X_test = joblib.load('X_test_knn.pkl')  \n",
    "y_test = joblib.load('y_test_knn.pkl')\n",
    "\n",
    "# Check\n",
    "print(\"train data:\", X_train.shape, y_train.shape)\n",
    "print(\"test data:\", X_test.shape, y_test.shape)"
   ]
  },
  {
   "cell_type": "code",
   "execution_count": 3,
   "id": "7b539c56",
   "metadata": {},
   "outputs": [
    {
     "data": {
      "text/html": [
       "<div>\n",
       "<style scoped>\n",
       "    .dataframe tbody tr th:only-of-type {\n",
       "        vertical-align: middle;\n",
       "    }\n",
       "\n",
       "    .dataframe tbody tr th {\n",
       "        vertical-align: top;\n",
       "    }\n",
       "\n",
       "    .dataframe thead th {\n",
       "        text-align: right;\n",
       "    }\n",
       "</style>\n",
       "<table border=\"1\" class=\"dataframe\">\n",
       "  <thead>\n",
       "    <tr style=\"text-align: right;\">\n",
       "      <th></th>\n",
       "      <th>customer_id</th>\n",
       "      <th>age</th>\n",
       "      <th>yrs_experience</th>\n",
       "      <th>family_size</th>\n",
       "      <th>income</th>\n",
       "      <th>mortgage_amt</th>\n",
       "      <th>credit_card_acct</th>\n",
       "      <th>share_trading_acct</th>\n",
       "      <th>fixed_deposit_acct</th>\n",
       "      <th>online_acct</th>\n",
       "      <th>ccsc_high</th>\n",
       "      <th>ccsc_low</th>\n",
       "      <th>ccsc_medium</th>\n",
       "      <th>education_level_Advanced or Professional</th>\n",
       "      <th>education_level_Graduate</th>\n",
       "      <th>education_level_Undergraduate</th>\n",
       "    </tr>\n",
       "  </thead>\n",
       "  <tbody>\n",
       "    <tr>\n",
       "      <th>5152</th>\n",
       "      <td>-0.689984</td>\n",
       "      <td>0.875345</td>\n",
       "      <td>-1.335544</td>\n",
       "      <td>0.502004</td>\n",
       "      <td>0.737300</td>\n",
       "      <td>0.865742</td>\n",
       "      <td>1</td>\n",
       "      <td>0</td>\n",
       "      <td>0</td>\n",
       "      <td>1</td>\n",
       "      <td>0</td>\n",
       "      <td>0</td>\n",
       "      <td>1</td>\n",
       "      <td>0</td>\n",
       "      <td>1</td>\n",
       "      <td>0</td>\n",
       "    </tr>\n",
       "    <tr>\n",
       "      <th>2820</th>\n",
       "      <td>-1.088456</td>\n",
       "      <td>-1.209825</td>\n",
       "      <td>0.681283</td>\n",
       "      <td>0.502004</td>\n",
       "      <td>-1.418797</td>\n",
       "      <td>-0.781218</td>\n",
       "      <td>1</td>\n",
       "      <td>0</td>\n",
       "      <td>0</td>\n",
       "      <td>0</td>\n",
       "      <td>0</td>\n",
       "      <td>0</td>\n",
       "      <td>1</td>\n",
       "      <td>0</td>\n",
       "      <td>0</td>\n",
       "      <td>1</td>\n",
       "    </tr>\n",
       "    <tr>\n",
       "      <th>4450</th>\n",
       "      <td>1.517386</td>\n",
       "      <td>1.035743</td>\n",
       "      <td>-1.658237</td>\n",
       "      <td>1.380665</td>\n",
       "      <td>0.782692</td>\n",
       "      <td>-0.781218</td>\n",
       "      <td>0</td>\n",
       "      <td>0</td>\n",
       "      <td>0</td>\n",
       "      <td>1</td>\n",
       "      <td>0</td>\n",
       "      <td>1</td>\n",
       "      <td>0</td>\n",
       "      <td>1</td>\n",
       "      <td>0</td>\n",
       "      <td>0</td>\n",
       "    </tr>\n",
       "    <tr>\n",
       "      <th>2715</th>\n",
       "      <td>1.063408</td>\n",
       "      <td>0.795146</td>\n",
       "      <td>1.649361</td>\n",
       "      <td>0.502004</td>\n",
       "      <td>-0.374792</td>\n",
       "      <td>0.564009</td>\n",
       "      <td>1</td>\n",
       "      <td>0</td>\n",
       "      <td>0</td>\n",
       "      <td>1</td>\n",
       "      <td>0</td>\n",
       "      <td>1</td>\n",
       "      <td>0</td>\n",
       "      <td>1</td>\n",
       "      <td>0</td>\n",
       "      <td>0</td>\n",
       "    </tr>\n",
       "    <tr>\n",
       "      <th>210</th>\n",
       "      <td>-0.205625</td>\n",
       "      <td>-0.407836</td>\n",
       "      <td>1.245995</td>\n",
       "      <td>-0.376657</td>\n",
       "      <td>0.079123</td>\n",
       "      <td>0.350281</td>\n",
       "      <td>1</td>\n",
       "      <td>0</td>\n",
       "      <td>0</td>\n",
       "      <td>0</td>\n",
       "      <td>0</td>\n",
       "      <td>0</td>\n",
       "      <td>1</td>\n",
       "      <td>1</td>\n",
       "      <td>0</td>\n",
       "      <td>0</td>\n",
       "    </tr>\n",
       "  </tbody>\n",
       "</table>\n",
       "</div>"
      ],
      "text/plain": [
       "      customer_id       age  yrs_experience  family_size    income  \\\n",
       "5152    -0.689984  0.875345       -1.335544     0.502004  0.737300   \n",
       "2820    -1.088456 -1.209825        0.681283     0.502004 -1.418797   \n",
       "4450     1.517386  1.035743       -1.658237     1.380665  0.782692   \n",
       "2715     1.063408  0.795146        1.649361     0.502004 -0.374792   \n",
       "210     -0.205625 -0.407836        1.245995    -0.376657  0.079123   \n",
       "\n",
       "      mortgage_amt  credit_card_acct  share_trading_acct  fixed_deposit_acct  \\\n",
       "5152      0.865742                 1                   0                   0   \n",
       "2820     -0.781218                 1                   0                   0   \n",
       "4450     -0.781218                 0                   0                   0   \n",
       "2715      0.564009                 1                   0                   0   \n",
       "210       0.350281                 1                   0                   0   \n",
       "\n",
       "      online_acct  ccsc_high  ccsc_low  ccsc_medium  \\\n",
       "5152            1          0         0            1   \n",
       "2820            0          0         0            1   \n",
       "4450            1          0         1            0   \n",
       "2715            1          0         1            0   \n",
       "210             0          0         0            1   \n",
       "\n",
       "      education_level_Advanced or Professional  education_level_Graduate  \\\n",
       "5152                                         0                         1   \n",
       "2820                                         0                         0   \n",
       "4450                                         1                         0   \n",
       "2715                                         1                         0   \n",
       "210                                          1                         0   \n",
       "\n",
       "      education_level_Undergraduate  \n",
       "5152                              0  \n",
       "2820                              1  \n",
       "4450                              0  \n",
       "2715                              0  \n",
       "210                               0  "
      ]
     },
     "execution_count": 3,
     "metadata": {},
     "output_type": "execute_result"
    }
   ],
   "source": [
    "X_train.head()"
   ]
  },
  {
   "cell_type": "markdown",
   "id": "046821b9",
   "metadata": {},
   "source": [
    "# Optimising KNN"
   ]
  },
  {
   "cell_type": "code",
   "execution_count": 12,
   "id": "90898348",
   "metadata": {},
   "outputs": [
    {
     "name": "stdout",
     "output_type": "stream",
     "text": [
      "Best params: {'algorithm': 'auto', 'n_neighbors': 6, 'weights': 'distance'}, score: 0.62\n"
     ]
    }
   ],
   "source": [
    "# Ref: https://scikit-learn.org/stable/modules/generated/sklearn.neighbors.KNeighborsClassifier.html\n",
    "\n",
    "# List of relevant params\n",
    "#     n_neighbors:int, default=5\n",
    "#     weights: {‘uniform’, ‘distance’} or callable, default=’uniform’\n",
    "#     algorithm: {‘auto’, ‘ball_tree’, ‘kd_tree’, ‘brute’}, default=’auto’\n",
    "\n",
    "param_grid = [\n",
    "    {\"n_neighbors\": range(1, 50)},\n",
    "    {\"n_neighbors\": range(1, 50), \"weights\": [\"uniform\", \"distance\"], \"algorithm\":[\"auto\", \"ball_tree\", \"kd_tree\", \"brute\"]}\n",
    "]\n",
    "\n",
    "# Instantiate a grid search object and fit it to the training data\n",
    "clf = KNeighborsClassifier()\n",
    "grid = GridSearchCV(clf, param_grid, verbose=0, cv=5, scoring='f1')\n",
    "grid.fit(X_train, y_train)\n",
    "print(f\"Best params: {grid.best_params_}, score: {grid.best_score_:0.2f}\")"
   ]
  },
  {
   "cell_type": "markdown",
   "id": "bd5cee58",
   "metadata": {},
   "source": [
    "# Load the pickled data from rf classification"
   ]
  },
  {
   "cell_type": "code",
   "execution_count": 9,
   "id": "c0768abf",
   "metadata": {},
   "outputs": [
    {
     "name": "stdout",
     "output_type": "stream",
     "text": [
      "train data: (4290, 16) (4290,)\n",
      "test data: (1073, 16) (1073,)\n"
     ]
    }
   ],
   "source": [
    "# Load the pickled files from knn classification\n",
    "X_train_rf = joblib.load('X_train_rf.pkl')  \n",
    "y_train_rf = joblib.load('y_train_rf.pkl')\n",
    "X_test_rf = joblib.load('X_test_rf.pkl')  \n",
    "y_test_rf = joblib.load('y_test_rf.pkl')\n",
    "\n",
    "# Check\n",
    "print(\"train data:\", X_train_rf.shape, y_train_rf.shape)\n",
    "print(\"test data:\", X_test_rf.shape, y_test_rf.shape)"
   ]
  },
  {
   "cell_type": "code",
   "execution_count": 14,
   "id": "0ac8098c",
   "metadata": {},
   "outputs": [
    {
     "name": "stdout",
     "output_type": "stream",
     "text": [
      "Best params: {'criterion': 'entropy', 'max_features': 4, 'n_estimators': 15}, score: 0.73\n"
     ]
    }
   ],
   "source": [
    "# Ref: https://scikit-learn.org/stable/modules/generated/sklearn.ensemble.RandomForestClassifier.html\n",
    "\n",
    "# List of relevant params\n",
    "#     n_estimators: int, default=100\n",
    "#     criterion: {“gini”, “entropy”}, default=”gini”\n",
    "#     max_depth: int, default=None\n",
    "#     min_samples_split: int or float, default=2\n",
    "#     min_samples_leaf: int or float, default=1\n",
    "#     min_weight_fraction_leaf: float, default=0.0\n",
    "#     max_features: {“auto”, “sqrt”, “log2”}, int or float, default=”auto”\n",
    "#     max_leaf_nodes: int, default=None\n",
    "\n",
    "\n",
    "# n_estimators is the number of tress in the forest\n",
    "# criterion is the function to measure the quality of split \n",
    "# max_features\n",
    "param_grid = [\n",
    "    {\"criterion\": [\"gini\", \"entropy\"], \"n_estimators\": range(1, 20), \"max_features\":[4]}\n",
    "]\n",
    "\n",
    "# Instantiate a grid search object and fit it to the training data\n",
    "clf = RandomForestClassifier()\n",
    "grid = GridSearchCV(clf, param_grid, verbose=0, cv=5, scoring='f1')\n",
    "grid.fit(X_train_rf, y_train_rf)\n",
    "print(f\"Best params: {grid.best_params_}, score: {grid.best_score_:0.2f}\")"
   ]
  },
  {
   "cell_type": "code",
   "execution_count": null,
   "id": "36a039de",
   "metadata": {},
   "outputs": [],
   "source": []
  }
 ],
 "metadata": {
  "kernelspec": {
   "display_name": "Python 3 (ipykernel)",
   "language": "python",
   "name": "python3"
  },
  "language_info": {
   "codemirror_mode": {
    "name": "ipython",
    "version": 3
   },
   "file_extension": ".py",
   "mimetype": "text/x-python",
   "name": "python",
   "nbconvert_exporter": "python",
   "pygments_lexer": "ipython3",
   "version": "3.9.7"
  }
 },
 "nbformat": 4,
 "nbformat_minor": 5
}
